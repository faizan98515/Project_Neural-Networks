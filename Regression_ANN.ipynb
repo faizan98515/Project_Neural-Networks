{
 "cells": [
  {
   "cell_type": "code",
   "execution_count": 59,
   "metadata": {},
   "outputs": [],
   "source": [
    "import torch\n",
    "import torch.nn as nn\n",
    "import torch.optim as optim\n",
    "from sklearn.datasets import fetch_california_housing\n",
    "from sklearn.preprocessing import StandardScaler\n",
    "from sklearn.model_selection import train_test_split\n",
    "from torch.utils.data import TensorDataset, DataLoader\n",
    "\n"
   ]
  },
  {
   "cell_type": "code",
   "execution_count": 60,
   "metadata": {},
   "outputs": [],
   "source": [
    "data = fetch_california_housing()\n",
    "X = data.data\n",
    "y = data.target\n"
   ]
  },
  {
   "cell_type": "code",
   "execution_count": 61,
   "metadata": {},
   "outputs": [],
   "source": [
    "#Normalize X and y\n",
    "sc_X = StandardScaler()\n",
    "X = sc_X.fit_transform(X)\n",
    "sc_y = StandardScaler()\n",
    "y = y.reshape(-1,1)\n",
    "y = sc_y.fit_transform(y)"
   ]
  },
  {
   "cell_type": "code",
   "execution_count": 62,
   "metadata": {},
   "outputs": [],
   "source": [
    "# Split into train and test sets\n",
    "X_train, X_test, y_train, y_test = train_test_split(X, y, test_size=0.2, random_state=42)"
   ]
  },
  {
   "cell_type": "code",
   "execution_count": 63,
   "metadata": {},
   "outputs": [],
   "source": [
    "# Convert to PyTorch tensors\n",
    "X_train = torch.tensor(X_train, dtype=torch.float32) \n",
    "X_test = torch.tensor(X_test, dtype=torch.float32)\n",
    "y_train = torch.tensor(y_train, dtype=torch.float32) \n",
    "y_test = torch.tensor(y_test, dtype=torch.float32)"
   ]
  },
  {
   "cell_type": "code",
   "execution_count": 64,
   "metadata": {},
   "outputs": [],
   "source": [
    "#Defining the class for Linear regression model\n",
    "class ManualRegression_ANN(nn.Module):\n",
    "    def __init__(self, input_features, h_layer1, h_layer2, h_layer3, h_layer4):\n",
    "        super(ManualRegression_ANN, self).__init__()\n",
    "        self.w1 = torch.nn.Parameter(torch.randn(input_features, h_layer1, requires_grad=True))\n",
    "        self.b1 = torch.nn.Parameter(torch.zeros(h_layer1, requires_grad=True))\n",
    "        self.w2 = torch.nn.Parameter(torch.randn(h_layer1, h_layer2, requires_grad=True))\n",
    "        self.b2 = torch.nn.Parameter(torch.zeros(h_layer2, requires_grad=True))\n",
    "        self.w3 = torch.nn.Parameter(torch.randn(h_layer2, h_layer3, requires_grad=True))\n",
    "        self.b3 = torch.nn.Parameter(torch.zeros(h_layer3, requires_grad=True))\n",
    "        self.w4 = torch.nn.Parameter(torch.randn(h_layer3, h_layer4, requires_grad=True))\n",
    "        self.b4 = torch.nn.Parameter(torch.zeros(h_layer4, requires_grad=True))\n",
    "        self.w5 = torch.nn.Parameter(torch.randn(h_layer4, 1, requires_grad=True))\n",
    "        self.b5 = torch.nn.Parameter(torch.zeros(1, requires_grad=True))\n",
    "\n",
    "        \n",
    "    def forward(self, X):\n",
    "        y1 = torch.relu(torch.mm(X, self.w1) + self.b1)\n",
    "        y2 = torch.relu(torch.mm(y1, self.w2) + self.b2)\n",
    "        y3 = torch.relu(torch.mm(y2, self.w3) + self.b3)\n",
    "        y4 = torch.relu(torch.mm(y3, self.w4) + self.b4)\n",
    "        y5 = torch.mm(y4, self.w5) + self.b5\n",
    "        return y5\n"
   ]
  },
  {
   "cell_type": "code",
   "execution_count": 65,
   "metadata": {},
   "outputs": [],
   "source": [
    "#Creating Tensor Dataset\n",
    "train_data = TensorDataset(X_train, y_train)\n",
    "test_data = TensorDataset(X_test, y_test)"
   ]
  },
  {
   "cell_type": "code",
   "execution_count": 66,
   "metadata": {},
   "outputs": [],
   "source": [
    "\n",
    "def train_loop(model, train_data, batch_size, loss_fn, optimizer):\n",
    "    \"\"\"Training loop for one epoch.\"\"\"\n",
    "    train_loader = DataLoader(dataset=train_data, batch_size=batch_size, shuffle=True)\n",
    "    model.train()  # Set model to training mode\n",
    "\n",
    "    total_loss = 0\n",
    "    for x_batch, y_batch in train_loader:\n",
    "        # Forward pass\n",
    "        yhat = model(x_batch)\n",
    "        loss = loss_fn(yhat, y_batch)\n",
    "\n",
    "        # Backward pass\n",
    "        optimizer.zero_grad()\n",
    "        loss.backward()\n",
    "        optimizer.step()\n",
    "\n",
    "        total_loss += loss.item()\n",
    "\n",
    "    avg_loss = total_loss / len(train_loader)  # Average loss for the epoch\n",
    "    return avg_loss\n",
    "\n",
    "\n",
    "def validate_loop(model, test_data, batch_size, loss_fn):\n",
    "    \"\"\"Validation loop for one epoch.\"\"\"\n",
    "    test_loader = DataLoader(dataset=test_data, batch_size=batch_size, shuffle=False)\n",
    "    model.eval()  # Set model to evaluation mode\n",
    "\n",
    "    total_loss = 0\n",
    "    with torch.no_grad():  # Disable gradient computation for validation\n",
    "        for x_batch, y_batch in test_loader:\n",
    "            # Forward pass\n",
    "            yhat = model(x_batch)\n",
    "            loss = loss_fn(yhat, y_batch)\n",
    "            total_loss += loss.item()\n",
    "\n",
    "    avg_loss = total_loss / len(test_loader)  # Average validation loss\n",
    "    return avg_loss\n",
    "\n",
    "\n",
    "def train_model(model, train_data, test_data, batch_size, n_epoch, loss_fn, optimizer):\n",
    "    \"\"\"Train and validate the model.\"\"\"\n",
    "    train_losses = []\n",
    "    val_losses = []\n",
    "\n",
    "    for epoch in range(n_epoch):\n",
    "        # Training phase\n",
    "        train_loss = train_loop(model, train_data, batch_size, loss_fn, optimizer)\n",
    "\n",
    "        # Validation phase\n",
    "        val_loss = validate_loop(model, test_data, batch_size, loss_fn)\n",
    "\n",
    "        # Store losses\n",
    "        train_losses.append(train_loss)\n",
    "        val_losses.append(val_loss)\n",
    "\n",
    "        # Print epoch summary\n",
    "        print(f\"Epoch {epoch+1}/{n_epoch}, Train Loss: {train_loss:.4f}, Validation Loss: {val_loss:.4f}\")\n",
    "\n",
    "    return model, train_losses, val_losses\n"
   ]
  },
  {
   "cell_type": "code",
   "execution_count": 67,
   "metadata": {},
   "outputs": [
    {
     "name": "stdout",
     "output_type": "stream",
     "text": [
      "Epoch 1/100, Train Loss: 13.1563, Validation Loss: 2.3237\n",
      "Epoch 2/100, Train Loss: 1.5561, Validation Loss: 0.8482\n",
      "Epoch 3/100, Train Loss: 0.8741, Validation Loss: 0.5591\n",
      "Epoch 4/100, Train Loss: 0.6695, Validation Loss: 0.4433\n",
      "Epoch 5/100, Train Loss: 0.5727, Validation Loss: 0.3880\n",
      "Epoch 6/100, Train Loss: 0.5136, Validation Loss: 0.3560\n",
      "Epoch 7/100, Train Loss: 0.4696, Validation Loss: 0.3329\n",
      "Epoch 8/100, Train Loss: 0.4134, Validation Loss: 0.3075\n",
      "Epoch 9/100, Train Loss: 0.3311, Validation Loss: 0.2858\n",
      "Epoch 10/100, Train Loss: 0.2835, Validation Loss: 0.2685\n",
      "Epoch 11/100, Train Loss: 0.2694, Validation Loss: 0.2591\n",
      "Epoch 12/100, Train Loss: 0.2589, Validation Loss: 0.2463\n",
      "Epoch 13/100, Train Loss: 0.2485, Validation Loss: 0.2382\n",
      "Epoch 14/100, Train Loss: 0.2390, Validation Loss: 0.2320\n",
      "Epoch 15/100, Train Loss: 0.2313, Validation Loss: 0.2238\n",
      "Epoch 16/100, Train Loss: 0.2244, Validation Loss: 0.2167\n",
      "Epoch 17/100, Train Loss: 0.2169, Validation Loss: 0.2150\n",
      "Epoch 18/100, Train Loss: 0.2119, Validation Loss: 0.2118\n",
      "Epoch 19/100, Train Loss: 0.2058, Validation Loss: 0.2059\n",
      "Epoch 20/100, Train Loss: 0.1999, Validation Loss: 0.2015\n",
      "Epoch 21/100, Train Loss: 0.1938, Validation Loss: 0.1933\n",
      "Epoch 22/100, Train Loss: 0.1909, Validation Loss: 0.2099\n",
      "Epoch 23/100, Train Loss: 0.1865, Validation Loss: 0.1863\n",
      "Epoch 24/100, Train Loss: 0.1835, Validation Loss: 0.1842\n",
      "Epoch 25/100, Train Loss: 0.1797, Validation Loss: 0.1824\n",
      "Epoch 26/100, Train Loss: 0.1776, Validation Loss: 0.1789\n",
      "Epoch 27/100, Train Loss: 0.1725, Validation Loss: 0.1755\n",
      "Epoch 28/100, Train Loss: 0.1715, Validation Loss: 0.1713\n",
      "Epoch 29/100, Train Loss: 0.1676, Validation Loss: 0.1763\n",
      "Epoch 30/100, Train Loss: 0.1659, Validation Loss: 0.1677\n",
      "Epoch 31/100, Train Loss: 0.1613, Validation Loss: 0.1697\n",
      "Epoch 32/100, Train Loss: 0.1591, Validation Loss: 0.1638\n",
      "Epoch 33/100, Train Loss: 0.1571, Validation Loss: 0.1605\n",
      "Epoch 34/100, Train Loss: 0.1555, Validation Loss: 0.1656\n",
      "Epoch 35/100, Train Loss: 0.1537, Validation Loss: 0.1616\n",
      "Epoch 36/100, Train Loss: 0.1516, Validation Loss: 0.1620\n",
      "Epoch 37/100, Train Loss: 0.1516, Validation Loss: 0.1590\n",
      "Epoch 38/100, Train Loss: 0.1495, Validation Loss: 0.1540\n",
      "Epoch 39/100, Train Loss: 0.1487, Validation Loss: 0.1533\n",
      "Epoch 40/100, Train Loss: 0.1469, Validation Loss: 0.1554\n",
      "Epoch 41/100, Train Loss: 0.1453, Validation Loss: 0.1517\n",
      "Epoch 42/100, Train Loss: 0.1447, Validation Loss: 0.1513\n",
      "Epoch 43/100, Train Loss: 0.1447, Validation Loss: 0.1513\n",
      "Epoch 44/100, Train Loss: 0.1429, Validation Loss: 0.1498\n",
      "Epoch 45/100, Train Loss: 0.1418, Validation Loss: 0.1452\n",
      "Epoch 46/100, Train Loss: 0.1414, Validation Loss: 0.1446\n",
      "Epoch 47/100, Train Loss: 0.1390, Validation Loss: 0.1479\n",
      "Epoch 48/100, Train Loss: 0.1390, Validation Loss: 0.1446\n",
      "Epoch 49/100, Train Loss: 0.1375, Validation Loss: 0.1426\n",
      "Epoch 50/100, Train Loss: 0.1360, Validation Loss: 0.1421\n",
      "Epoch 51/100, Train Loss: 0.1351, Validation Loss: 0.1422\n",
      "Epoch 52/100, Train Loss: 0.1344, Validation Loss: 0.1401\n",
      "Epoch 53/100, Train Loss: 0.1346, Validation Loss: 0.1398\n",
      "Epoch 54/100, Train Loss: 0.1339, Validation Loss: 0.1385\n",
      "Epoch 55/100, Train Loss: 0.1332, Validation Loss: 0.1397\n",
      "Epoch 56/100, Train Loss: 0.1321, Validation Loss: 0.1439\n",
      "Epoch 57/100, Train Loss: 0.1314, Validation Loss: 0.1349\n",
      "Epoch 58/100, Train Loss: 0.1306, Validation Loss: 0.1346\n",
      "Epoch 59/100, Train Loss: 0.1311, Validation Loss: 0.1333\n",
      "Epoch 60/100, Train Loss: 0.1294, Validation Loss: 0.1338\n",
      "Epoch 61/100, Train Loss: 0.1286, Validation Loss: 0.1328\n",
      "Epoch 62/100, Train Loss: 0.1290, Validation Loss: 0.1328\n",
      "Epoch 63/100, Train Loss: 0.1270, Validation Loss: 0.1308\n",
      "Epoch 64/100, Train Loss: 0.1273, Validation Loss: 0.1302\n",
      "Epoch 65/100, Train Loss: 0.1271, Validation Loss: 0.1352\n",
      "Epoch 66/100, Train Loss: 0.1264, Validation Loss: 0.1294\n",
      "Epoch 67/100, Train Loss: 0.1261, Validation Loss: 0.1277\n",
      "Epoch 68/100, Train Loss: 0.1247, Validation Loss: 0.1298\n",
      "Epoch 69/100, Train Loss: 0.1245, Validation Loss: 0.1286\n",
      "Epoch 70/100, Train Loss: 0.1239, Validation Loss: 0.1260\n",
      "Epoch 71/100, Train Loss: 0.1238, Validation Loss: 0.1255\n",
      "Epoch 72/100, Train Loss: 0.1220, Validation Loss: 0.1262\n",
      "Epoch 73/100, Train Loss: 0.1222, Validation Loss: 0.1279\n",
      "Epoch 74/100, Train Loss: 0.1222, Validation Loss: 0.1238\n",
      "Epoch 75/100, Train Loss: 0.1225, Validation Loss: 0.1334\n",
      "Epoch 76/100, Train Loss: 0.1212, Validation Loss: 0.1242\n",
      "Epoch 77/100, Train Loss: 0.1203, Validation Loss: 0.1267\n",
      "Epoch 78/100, Train Loss: 0.1202, Validation Loss: 0.1222\n",
      "Epoch 79/100, Train Loss: 0.1181, Validation Loss: 0.1218\n",
      "Epoch 80/100, Train Loss: 0.1195, Validation Loss: 0.1216\n",
      "Epoch 81/100, Train Loss: 0.1182, Validation Loss: 0.1212\n",
      "Epoch 82/100, Train Loss: 0.1182, Validation Loss: 0.1250\n",
      "Epoch 83/100, Train Loss: 0.1178, Validation Loss: 0.1196\n",
      "Epoch 84/100, Train Loss: 0.1167, Validation Loss: 0.1208\n",
      "Epoch 85/100, Train Loss: 0.1170, Validation Loss: 0.1211\n",
      "Epoch 86/100, Train Loss: 0.1160, Validation Loss: 0.1205\n",
      "Epoch 87/100, Train Loss: 0.1155, Validation Loss: 0.1199\n",
      "Epoch 88/100, Train Loss: 0.1150, Validation Loss: 0.1173\n",
      "Epoch 89/100, Train Loss: 0.1151, Validation Loss: 0.1189\n",
      "Epoch 90/100, Train Loss: 0.1152, Validation Loss: 0.1176\n",
      "Epoch 91/100, Train Loss: 0.1150, Validation Loss: 0.1195\n",
      "Epoch 92/100, Train Loss: 0.1152, Validation Loss: 0.1211\n",
      "Epoch 93/100, Train Loss: 0.1142, Validation Loss: 0.1163\n",
      "Epoch 94/100, Train Loss: 0.1140, Validation Loss: 0.1201\n",
      "Epoch 95/100, Train Loss: 0.1134, Validation Loss: 0.1165\n",
      "Epoch 96/100, Train Loss: 0.1131, Validation Loss: 0.1163\n",
      "Epoch 97/100, Train Loss: 0.1133, Validation Loss: 0.1163\n",
      "Epoch 98/100, Train Loss: 0.1134, Validation Loss: 0.1176\n",
      "Epoch 99/100, Train Loss: 0.1122, Validation Loss: 0.1263\n",
      "Epoch 100/100, Train Loss: 0.1126, Validation Loss: 0.1208\n"
     ]
    }
   ],
   "source": [
    "#Training the model\n",
    "batch_size = 64\n",
    "model5 = ManualRegression_ANN(X_train.shape[1], 10, 9,  8, 7)\n",
    "loss_fn = nn.SmoothL1Loss(beta=1.0, reduction='mean')\n",
    "optimizer = optim.Adam(model5.parameters(), lr=0.001)\n",
    "n_epoch = 100\n",
    "trained_model5, train_losses, val_losses = train_model(model5, train_data, test_data, batch_size, n_epoch, loss_fn, optimizer)"
   ]
  },
  {
   "cell_type": "code",
   "execution_count": 76,
   "metadata": {},
   "outputs": [
    {
     "name": "stdout",
     "output_type": "stream",
     "text": [
      "R² Score: 0.7181\n",
      "MAE: 0.3527\n",
      "RMSE: 0.5267\n"
     ]
    },
    {
     "name": "stderr",
     "output_type": "stream",
     "text": [
      "f:\\New folder\\Lib\\site-packages\\sklearn\\metrics\\_regression.py:483: FutureWarning: 'squared' is deprecated in version 1.4 and will be removed in 1.6. To calculate the root mean squared error, use the function'root_mean_squared_error'.\n",
      "  warnings.warn(\n"
     ]
    }
   ],
   "source": [
    "from sklearn.metrics import r2_score, mean_absolute_error, mean_squared_error\n",
    "test_predictions = trained_model5(X_test)\n",
    "y_pred = test_predictions.detach().numpy()\n",
    "y_actual = y_test.numpy()\n",
    "\n",
    "r2 = r2_score(y_actual, y_pred)\n",
    "mae = mean_absolute_error(y_actual, y_pred)\n",
    "rmse = mean_squared_error(y_actual, y_pred, squared=False)\n",
    "print(f\"R² Score: {r2:.4f}\")\n",
    "print(f\"MAE: {mae:.4f}\")\n",
    "print(f\"RMSE: {rmse:.4f}\")\n"
   ]
  },
  {
   "cell_type": "code",
   "execution_count": 71,
   "metadata": {},
   "outputs": [
    {
     "data": {
      "image/png": "[encoded data removed]",
      "text/plain": [
       "<Figure size 1000x600 with 1 Axes>"
      ]
     },
     "metadata": {},
     "output_type": "display_data"
    }
   ],
   "source": [
    "import matplotlib.pyplot as plt\n",
    "\n",
    "# Plot training and validation loss\n",
    "plt.figure(figsize=(10, 6))\n",
    "plt.plot(range(1, n_epoch + 1), train_losses, label='Training Loss')\n",
    "plt.plot(range(1, n_epoch + 1), val_losses, label='Validation Loss')\n",
    "plt.xlabel('Epochs')\n",
    "plt.ylabel('Loss')\n",
    "plt.title('Training vs. Validation Loss')\n",
    "plt.legend()\n",
    "plt.grid()\n",
    "plt.show()\n",
    "\n"
   ]
  }
 ],
 "metadata": {
  "kernelspec": {
   "display_name": "base",
   "language": "python",
   "name": "python3"
  },
  "language_info": {
   "codemirror_mode": {
    "name": "ipython",
    "version": 3
   },
   "file_extension": ".py",
   "mimetype": "text/x-python",
   "name": "python",
   "nbconvert_exporter": "python",
   "pygments_lexer": "ipython3",
   "version": "3.12.4"
  }
 },
 "nbformat": 4,
 "nbformat_minor": 2
}
